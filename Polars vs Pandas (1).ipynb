{
 "cells": [
  {
   "cell_type": "code",
   "execution_count": 2,
   "metadata": {},
   "outputs": [
    {
     "name": "stdout",
     "output_type": "stream",
     "text": [
      "Requirement already satisfied: polars in c:\\users\\selfk\\appdata\\local\\programs\\python\\python312\\lib\\site-packages (1.7.1)\n",
      "Note: you may need to restart the kernel to use updated packages.\n"
     ]
    }
   ],
   "source": [
    "pip install polars"
   ]
  },
  {
   "cell_type": "code",
   "execution_count": 3,
   "metadata": {},
   "outputs": [
    {
     "name": "stdout",
     "output_type": "stream",
     "text": [
      "Requirement already satisfied: polar in c:\\users\\selfk\\appdata\\local\\programs\\python\\python312\\lib\\site-packages (0.0.127)\n",
      "Requirement already satisfied: pandas in c:\\users\\selfk\\appdata\\local\\programs\\python\\python312\\lib\\site-packages (2.2.2)\n",
      "Requirement already satisfied: openpyxl in c:\\users\\selfk\\appdata\\local\\programs\\python\\python312\\lib\\site-packages (3.1.5)\n",
      "Requirement already satisfied: numpy in c:\\users\\selfk\\appdata\\local\\programs\\python\\python312\\lib\\site-packages (from polar) (2.1.1)\n",
      "Requirement already satisfied: scipy in c:\\users\\selfk\\appdata\\local\\programs\\python\\python312\\lib\\site-packages (from polar) (1.14.1)\n",
      "Requirement already satisfied: statsmodels in c:\\users\\selfk\\appdata\\local\\programs\\python\\python312\\lib\\site-packages (from polar) (0.14.2)\n",
      "Requirement already satisfied: scikit-learn in c:\\users\\selfk\\appdata\\local\\programs\\python\\python312\\lib\\site-packages (from polar) (1.5.2)\n",
      "Requirement already satisfied: seaborn in c:\\users\\selfk\\appdata\\local\\programs\\python\\python312\\lib\\site-packages (from polar) (0.13.2)\n",
      "Requirement already satisfied: cryptography in c:\\users\\selfk\\appdata\\local\\programs\\python\\python312\\lib\\site-packages (from polar) (43.0.1)\n",
      "Requirement already satisfied: nltk in c:\\users\\selfk\\appdata\\local\\programs\\python\\python312\\lib\\site-packages (from polar) (3.9.1)\n",
      "Requirement already satisfied: python-pptx in c:\\users\\selfk\\appdata\\local\\programs\\python\\python312\\lib\\site-packages (from polar) (1.0.2)\n",
      "Requirement already satisfied: imblearn in c:\\users\\selfk\\appdata\\local\\programs\\python\\python312\\lib\\site-packages (from polar) (0.0)\n",
      "Requirement already satisfied: python-dateutil>=2.8.2 in c:\\users\\selfk\\appdata\\roaming\\python\\python312\\site-packages (from pandas) (2.9.0.post0)\n",
      "Requirement already satisfied: pytz>=2020.1 in c:\\users\\selfk\\appdata\\local\\programs\\python\\python312\\lib\\site-packages (from pandas) (2024.1)\n",
      "Requirement already satisfied: tzdata>=2022.7 in c:\\users\\selfk\\appdata\\local\\programs\\python\\python312\\lib\\site-packages (from pandas) (2024.1)\n",
      "Requirement already satisfied: et-xmlfile in c:\\users\\selfk\\appdata\\local\\programs\\python\\python312\\lib\\site-packages (from openpyxl) (1.1.0)\n",
      "Requirement already satisfied: six>=1.5 in c:\\users\\selfk\\appdata\\roaming\\python\\python312\\site-packages (from python-dateutil>=2.8.2->pandas) (1.16.0)\n",
      "Requirement already satisfied: cffi>=1.12 in c:\\users\\selfk\\appdata\\local\\programs\\python\\python312\\lib\\site-packages (from cryptography->polar) (1.17.1)\n",
      "Requirement already satisfied: imbalanced-learn in c:\\users\\selfk\\appdata\\local\\programs\\python\\python312\\lib\\site-packages (from imblearn->polar) (0.12.3)\n",
      "Requirement already satisfied: click in c:\\users\\selfk\\appdata\\local\\programs\\python\\python312\\lib\\site-packages (from nltk->polar) (8.1.7)\n",
      "Requirement already satisfied: joblib in c:\\users\\selfk\\appdata\\local\\programs\\python\\python312\\lib\\site-packages (from nltk->polar) (1.4.2)\n",
      "Requirement already satisfied: regex>=2021.8.3 in c:\\users\\selfk\\appdata\\local\\programs\\python\\python312\\lib\\site-packages (from nltk->polar) (2024.9.11)\n",
      "Requirement already satisfied: tqdm in c:\\users\\selfk\\appdata\\local\\programs\\python\\python312\\lib\\site-packages (from nltk->polar) (4.66.5)\n",
      "Requirement already satisfied: Pillow>=3.3.2 in c:\\users\\selfk\\appdata\\local\\programs\\python\\python312\\lib\\site-packages (from python-pptx->polar) (10.4.0)\n",
      "Requirement already satisfied: XlsxWriter>=0.5.7 in c:\\users\\selfk\\appdata\\local\\programs\\python\\python312\\lib\\site-packages (from python-pptx->polar) (3.2.0)\n",
      "Requirement already satisfied: lxml>=3.1.0 in c:\\users\\selfk\\appdata\\local\\programs\\python\\python312\\lib\\site-packages (from python-pptx->polar) (5.3.0)\n",
      "Requirement already satisfied: typing-extensions>=4.9.0 in c:\\users\\selfk\\appdata\\local\\programs\\python\\python312\\lib\\site-packages (from python-pptx->polar) (4.12.2)\n",
      "Requirement already satisfied: threadpoolctl>=3.1.0 in c:\\users\\selfk\\appdata\\local\\programs\\python\\python312\\lib\\site-packages (from scikit-learn->polar) (3.5.0)\n",
      "Requirement already satisfied: matplotlib!=3.6.1,>=3.4 in c:\\users\\selfk\\appdata\\local\\programs\\python\\python312\\lib\\site-packages (from seaborn->polar) (3.9.2)\n",
      "Requirement already satisfied: patsy>=0.5.6 in c:\\users\\selfk\\appdata\\local\\programs\\python\\python312\\lib\\site-packages (from statsmodels->polar) (0.5.6)\n",
      "Requirement already satisfied: packaging>=21.3 in c:\\users\\selfk\\appdata\\roaming\\python\\python312\\site-packages (from statsmodels->polar) (24.1)\n",
      "Requirement already satisfied: pycparser in c:\\users\\selfk\\appdata\\local\\programs\\python\\python312\\lib\\site-packages (from cffi>=1.12->cryptography->polar) (2.22)\n",
      "Requirement already satisfied: contourpy>=1.0.1 in c:\\users\\selfk\\appdata\\local\\programs\\python\\python312\\lib\\site-packages (from matplotlib!=3.6.1,>=3.4->seaborn->polar) (1.3.0)\n",
      "Requirement already satisfied: cycler>=0.10 in c:\\users\\selfk\\appdata\\local\\programs\\python\\python312\\lib\\site-packages (from matplotlib!=3.6.1,>=3.4->seaborn->polar) (0.12.1)\n",
      "Requirement already satisfied: fonttools>=4.22.0 in c:\\users\\selfk\\appdata\\local\\programs\\python\\python312\\lib\\site-packages (from matplotlib!=3.6.1,>=3.4->seaborn->polar) (4.53.1)\n",
      "Requirement already satisfied: kiwisolver>=1.3.1 in c:\\users\\selfk\\appdata\\local\\programs\\python\\python312\\lib\\site-packages (from matplotlib!=3.6.1,>=3.4->seaborn->polar) (1.4.7)\n",
      "Requirement already satisfied: pyparsing>=2.3.1 in c:\\users\\selfk\\appdata\\local\\programs\\python\\python312\\lib\\site-packages (from matplotlib!=3.6.1,>=3.4->seaborn->polar) (3.1.4)\n",
      "Requirement already satisfied: colorama in c:\\users\\selfk\\appdata\\roaming\\python\\python312\\site-packages (from click->nltk->polar) (0.4.6)\n",
      "Requirement already satisfied: pyarrow in c:\\users\\selfk\\appdata\\local\\programs\\python\\python312\\lib\\site-packages (17.0.0)\n",
      "Requirement already satisfied: numpy>=1.16.6 in c:\\users\\selfk\\appdata\\local\\programs\\python\\python312\\lib\\site-packages (from pyarrow) (2.1.1)\n"
     ]
    }
   ],
   "source": [
    "import polars as pl\n",
    "import pandas as pd\n",
    "import datetime\n",
    "!pip install polar pandas openpyxl\n",
    "!pip install pyarrow"
   ]
  },
  {
   "cell_type": "code",
   "execution_count": 6,
   "metadata": {},
   "outputs": [
    {
     "name": "stdout",
     "output_type": "stream",
     "text": [
      "time taken to execute and fetch :  0:00:00.014314\n"
     ]
    }
   ],
   "source": [
    "# Polars read data\n",
    "d1 = datetime.datetime.now()\n",
    "df = pl.read_csv(r\"C:\\Users\\selfk\\OneDrive\\Desktop\\big_tech_stock_prices.csv\\big_tech_stock_prices.csv\")\n",
    "d2 = datetime.datetime.now()\n",
    "print('time taken to execute and fetch : ', d2 - d1)"
   ]
  },
  {
   "cell_type": "code",
   "execution_count": 7,
   "metadata": {},
   "outputs": [
    {
     "name": "stdout",
     "output_type": "stream",
     "text": [
      "time taken to execute and fetch :  0:00:00.060650\n"
     ]
    }
   ],
   "source": [
    "# Pandas read data \n",
    "d1 = datetime.datetime.now()\n",
    "df1 = pd.read_csv(r\"C:\\Users\\selfk\\OneDrive\\Desktop\\big_tech_stock_prices.csv\\big_tech_stock_prices.csv\")\n",
    "d2 = datetime.datetime.now()\n",
    "print('time taken to execute and fetch : ', d2 - d1)"
   ]
  },
  {
   "cell_type": "code",
   "execution_count": 12,
   "metadata": {},
   "outputs": [
    {
     "name": "stdout",
     "output_type": "stream",
     "text": [
      "time taken to execute and fetch :  0:00:00.044638\n"
     ]
    }
   ],
   "source": [
    "# Pandas pivot table\n",
    "d1 = datetime.datetime.now()\n",
    "pivot=df1.pivot_table(index='stock_symbol',columns='volume',values='adj_close')\n",
    "pivot\n",
    "d2 = datetime.datetime.now()\n",
    "print('time taken to execute and fetch : ', d2 - d1)"
   ]
  },
  {
   "cell_type": "code",
   "execution_count": 13,
   "metadata": {},
   "outputs": [
    {
     "name": "stdout",
     "output_type": "stream",
     "text": [
      "Time taken to execute and fetch: 0:00:00.026615\n"
     ]
    }
   ],
   "source": [
    "import polars as pl\n",
    "import datetime\n",
    "\n",
    "\n",
    "d1 = datetime.datetime.now()\n",
    "\n",
    "\n",
    "pivot = df1.groupby(['stock_symbol','volume'])['adj_close'].count()\n",
    "\n",
    "d2 = datetime.datetime.now()\n",
    "\n",
    "elapsed_time = d2 - d1\n",
    "\n",
    "print('Time taken to execute and fetch:', elapsed_time)"
   ]
  },
  {
   "cell_type": "code",
   "execution_count": null,
   "metadata": {},
   "outputs": [],
   "source": []
  }
 ],
 "metadata": {
  "kernelspec": {
   "display_name": "Python 3",
   "language": "python",
   "name": "python3"
  },
  "language_info": {
   "codemirror_mode": {
    "name": "ipython",
    "version": 3
   },
   "file_extension": ".py",
   "mimetype": "text/x-python",
   "name": "python",
   "nbconvert_exporter": "python",
   "pygments_lexer": "ipython3",
   "version": "3.12.5"
  }
 },
 "nbformat": 4,
 "nbformat_minor": 2
}
