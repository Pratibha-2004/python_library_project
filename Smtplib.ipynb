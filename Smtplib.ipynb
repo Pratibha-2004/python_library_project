{
 "cells": [
  {
   "cell_type": "code",
   "execution_count": 1,
   "metadata": {},
   "outputs": [],
   "source": [
    "import smtplib\n",
    "from email.mime.multipart import MIMEMultipart\n",
    "from email.mime.text import MIMEText\n",
    "from email.mime.base import MIMEBase\n",
    "from email import encoders\n"
   ]
  },
  {
   "cell_type": "code",
   "execution_count": 2,
   "metadata": {},
   "outputs": [],
   "source": [
    "fromaddr = \"mail2pratibharani2004@gmail.com\"\n",
    "toaddr = \"k33684067@gmail.com\""
   ]
  },
  {
   "cell_type": "code",
   "execution_count": 4,
   "metadata": {},
   "outputs": [],
   "source": [
    "msg = MIMEMultipart()\n",
    "msg['From'] = fromaddr\n",
    "msg['To'] = toaddr\n",
    "msg['Subject'] = \"report analysis\""
   ]
  },
  {
   "cell_type": "code",
   "execution_count": 9,
   "metadata": {},
   "outputs": [],
   "source": [
    "filename = \"netflix_titles\"\n",
    "attachment = open(r\"C:\\Users\\selfk\\OneDrive\\Desktop\\archive (1)\\netflix_titles.csv\", \"rb\")\n",
    "  \n",
    "# instance of MIMEBase and named as p\n",
    "p = MIMEBase('application', 'octet-stream')\n",
    "  \n",
    "# To change the payload into encoded form\n",
    "p.set_payload((attachment).read())\n",
    "  \n",
    "# encode into base64\n",
    "encoders.encode_base64(p)\n",
    "   \n",
    "p.add_header('Content-Disposition', \"attachment; filename= %s\" % filename)\n",
    "  \n",
    "# attach the instance 'p' to instance 'msg'\n",
    "msg.attach(p)"
   ]
  },
  {
   "cell_type": "code",
   "execution_count": 14,
   "metadata": {},
   "outputs": [
    {
     "data": {
      "text/plain": [
       "(221, b'2.0.0 Service closing transmission channel')"
      ]
     },
     "execution_count": 14,
     "metadata": {},
     "output_type": "execute_result"
    }
   ],
   "source": [
    "# creates SMTP session\n",
    "s = smtplib.SMTP('smtp.office365.com',587)\n",
    "  \n",
    "# start TLS for security\n",
    "s.starttls()\n",
    "  \n",
    "# Authentication\n",
    "s.login(\"mail2pratibharani2004@gmail.com\", \"Password\")\n",
    "  \n",
    "# Converts the Multipart msg into a string\n",
    "text = msg.as_string()\n",
    "  \n",
    "# sending the mail\n",
    "s.sendmail(\"mail2pratibharani2004@gmail.com\", \"mail2pratibharani2004@gmail.com\", text)\n",
    "\n",
    "\n",
    "  \n",
    "# terminating the session\n",
    "s.quit()"
   ]
  },
  {
   "cell_type": "code",
   "execution_count": null,
   "metadata": {},
   "outputs": [],
   "source": []
  }
 ],
 "metadata": {
  "kernelspec": {
   "display_name": "Python 3",
   "language": "python",
   "name": "python3"
  },
  "language_info": {
   "codemirror_mode": {
    "name": "ipython",
    "version": 3
   },
   "file_extension": ".py",
   "mimetype": "text/x-python",
   "name": "python",
   "nbconvert_exporter": "python",
   "pygments_lexer": "ipython3",
   "version": "3.12.5"
  }
 },
 "nbformat": 4,
 "nbformat_minor": 2
}
