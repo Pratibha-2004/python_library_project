{
 "cells": [
  {
   "cell_type": "code",
   "execution_count": 1,
   "metadata": {},
   "outputs": [],
   "source": [
    "import numpy as np"
   ]
  },
  {
   "cell_type": "code",
   "execution_count": 10,
   "metadata": {},
   "outputs": [],
   "source": [
    "# Generate synthetic student data\n",
    "np.random.seed()  # For reproducibility"
   ]
  },
  {
   "cell_type": "code",
   "execution_count": 11,
   "metadata": {},
   "outputs": [],
   "source": [
    "num_students = 100"
   ]
  },
  {
   "cell_type": "code",
   "execution_count": 12,
   "metadata": {},
   "outputs": [
    {
     "data": {
      "text/plain": [
       "array([75, 99, 78, 69, 78, 52, 84, 97, 90, 92, 62, 55, 51, 82, 51, 98, 89,\n",
       "       77, 91, 80, 53, 85, 61, 87, 65, 60, 87, 70, 58, 61, 64, 65, 96, 85,\n",
       "       77, 87, 58, 82, 59, 59, 55, 58, 90, 78, 92, 99, 89, 63, 98, 55, 79,\n",
       "       61, 99, 75, 86, 75, 77, 59, 59, 94, 62, 64, 80, 93, 89, 80, 84, 93,\n",
       "       79, 99, 91, 89, 88, 60, 94, 69, 98, 56, 91, 78, 92, 56, 50, 95, 92,\n",
       "       60, 84, 74, 91, 85, 62, 86, 65, 88, 75, 63, 96, 72, 67, 61],\n",
       "      dtype=int32)"
      ]
     },
     "execution_count": 12,
     "metadata": {},
     "output_type": "execute_result"
    }
   ],
   "source": [
    "grades = np.random.randint(50, 100, num_students)\n",
    "grades"
   ]
  },
  {
   "cell_type": "code",
   "execution_count": 13,
   "metadata": {},
   "outputs": [],
   "source": [
    "attendance = np.random.randint(0, 2, num_students)  # 0 for absent, 1 for present"
   ]
  },
  {
   "cell_type": "code",
   "execution_count": 14,
   "metadata": {},
   "outputs": [
    {
     "data": {
      "text/plain": [
       "array([0, 0, 1, 0, 0, 1, 1, 0, 1, 1, 0, 0, 1, 0, 0, 0, 0, 1, 1, 1, 0, 1,\n",
       "       0, 0, 1, 0, 1, 0, 0, 1, 1, 1, 0, 1, 1, 1, 0, 0, 1, 1, 0, 0, 0, 1,\n",
       "       0, 0, 0, 1, 0, 1, 0, 1, 1, 0, 0, 0, 1, 1, 0, 1, 0, 0, 0, 1, 0, 0,\n",
       "       1, 0, 1, 1, 0, 1, 0, 1, 1, 0, 0, 0, 1, 0, 1, 1, 0, 1, 1, 1, 1, 0,\n",
       "       0, 0, 1, 0, 1, 1, 0, 1, 1, 0, 1, 0], dtype=int32)"
      ]
     },
     "execution_count": 14,
     "metadata": {},
     "output_type": "execute_result"
    }
   ],
   "source": [
    "attendance"
   ]
  },
  {
   "cell_type": "code",
   "execution_count": 15,
   "metadata": {},
   "outputs": [],
   "source": [
    "# Calculate statistics\n",
    "average_grade = np.mean(grades)\n",
    "average_grade\n",
    "max_grade = np.max(grades)\n",
    "min_grade = np.min(grades)\n",
    "pass_rate = np.mean(grades >= 60) * 100"
   ]
  },
  {
   "cell_type": "code",
   "execution_count": 16,
   "metadata": {},
   "outputs": [],
   "source": [
    "# Filter data\n",
    "attendance_threshold = 0.8\n",
    "attendance_above_threshold = grades[attendance >= attendance_threshold]"
   ]
  },
  {
   "cell_type": "code",
   "execution_count": 17,
   "metadata": {},
   "outputs": [
    {
     "name": "stdout",
     "output_type": "stream",
     "text": [
      "Average Grade: 76.61\n",
      "Max Grade: 99\n",
      "Min Grade: 50\n",
      "Pass Rate: 83.0 %\n",
      "Number of Students with Good Attendance: 48\n"
     ]
    }
   ],
   "source": [
    "# Print statistics\n",
    "print(\"Average Grade:\", average_grade)\n",
    "print(\"Max Grade:\", max_grade)\n",
    "print(\"Min Grade:\", min_grade)\n",
    "print(\"Pass Rate:\", pass_rate, \"%\")\n",
    "print(\"Number of Students with Good Attendance:\", len(attendance_above_threshold))"
   ]
  },
  {
   "cell_type": "code",
   "execution_count": null,
   "metadata": {},
   "outputs": [],
   "source": []
  }
 ],
 "metadata": {
  "kernelspec": {
   "display_name": "Python 3",
   "language": "python",
   "name": "python3"
  },
  "language_info": {
   "codemirror_mode": {
    "name": "ipython",
    "version": 3
   },
   "file_extension": ".py",
   "mimetype": "text/x-python",
   "name": "python",
   "nbconvert_exporter": "python",
   "pygments_lexer": "ipython3",
   "version": "3.12.5"
  }
 },
 "nbformat": 4,
 "nbformat_minor": 2
}
